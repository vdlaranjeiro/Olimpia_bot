{
  "nbformat": 4,
  "nbformat_minor": 0,
  "metadata": {
    "colab": {
      "provenance": []
    },
    "kernelspec": {
      "name": "python3",
      "display_name": "Python 3"
    },
    "language_info": {
      "name": "python"
    }
  },
  "cells": [
    {
      "cell_type": "code",
      "execution_count": null,
      "metadata": {
        "id": "Pc1l6aFKEUX7"
      },
      "outputs": [],
      "source": [
        "! pip install pytelegrambotapi"
      ]
    },
    {
      "cell_type": "code",
      "source": [
        "!pip install pandas pandasai==0.8.4"
      ],
      "metadata": {
        "id": "VEzNyjWdEk-t"
      },
      "execution_count": null,
      "outputs": []
    },
    {
      "cell_type": "code",
      "source": [
        "!pip install googletrans==4.0.0-rc1"
      ],
      "metadata": {
        "id": "3P2eENOdEq81"
      },
      "execution_count": null,
      "outputs": []
    },
    {
      "cell_type": "code",
      "source": [
        "import telebot\n",
        "import pandas as pd\n",
        "from pandasai.llm.starcoder import Starcoder\n",
        "from pandasai import PandasAI\n",
        "import numpy\n",
        "\n",
        "from googletrans import Translator\n",
        "import locale"
      ],
      "metadata": {
        "id": "oOxPTxxjFR3H"
      },
      "execution_count": 2,
      "outputs": []
    },
    {
      "cell_type": "code",
      "source": [
        "API_TOKEN = ''\n",
        "bot = telebot.TeleBot(API_TOKEN)"
      ],
      "metadata": {
        "id": "hIHFbNlDFyai"
      },
      "execution_count": 3,
      "outputs": []
    },
    {
      "cell_type": "code",
      "source": [
        "llm = Starcoder(api_token=\"\")\n",
        "df = pd.read_csv(\"https://raw.githubusercontent.com/noo-e/Olimpia_bot/main/Medals.csv\")\n",
        "pandas_ai = PandasAI(llm, conversational=False)"
      ],
      "metadata": {
        "id": "v4PPyFYxGatH"
      },
      "execution_count": 4,
      "outputs": []
    },
    {
      "cell_type": "code",
      "source": [
        "translator = Translator()\n",
        "#locale.setlocale(locale.LC_COLLATE, 'pt_BR.utf-8')"
      ],
      "metadata": {
        "id": "s6x4VU9ZGdkE"
      },
      "execution_count": 8,
      "outputs": []
    },
    {
      "cell_type": "code",
      "source": [
        "@bot.message_handler(commands=[\"start\"])\n",
        "def send_welcome(message):\n",
        "  chat_id = message.chat.id\n",
        "  response = '''\n",
        "Olá, seja bem-vindo(a)!\n",
        "Eu sou a Olímpia, bot de informação sobre os Jogos Olímpicos de Verão Tóquio 2020.\n",
        "Minhas funções são focadas no quadro de medalhas. Me peça informações sobre as olimpíadas!\n",
        "\n",
        "Exemplos:\n",
        "\"Número de medalhas de ouro do Brasil\"\n",
        "\"Número de medalhas totais do Japão\"\n",
        "\"top 5 países que mais ganharam medalhas de ouro\"\n",
        "\n",
        "Comandos:\n",
        "/paises - Lista todos os países que participaram da competição.\n",
        "(Obs: Consulte como o nome do país está registrado para maiores chances de resposta.)'''\n",
        "  bot.send_message(chat_id, response)"
      ],
      "metadata": {
        "id": "BGYEtTFhH5eM"
      },
      "execution_count": 9,
      "outputs": []
    },
    {
      "cell_type": "code",
      "source": [
        "@bot.message_handler(commands=[\"paises\"])\n",
        "def list_countries(message):\n",
        "    countries = df[\"Country name\"].tolist()\n",
        "    string_countries = '\\n'.join(countries)\n",
        "\n",
        "    translated_countries = translator.translate(string_countries, dest='pt').text\n",
        "    translated_countries_list = translated_countries.splitlines()\n",
        "    print(translated_countries_list)\n",
        "    sorted_translated_countries_list = sorted(translated_countries_list)\n",
        "    string_translated_countries = '\\n'.join(sorted_translated_countries_list)\n",
        "    response = f\"Lista de países:\\n{string_translated_countries}\"\n",
        "    bot.reply_to(message, response)"
      ],
      "metadata": {
        "id": "yov-QM_zH_cH"
      },
      "execution_count": 10,
      "outputs": []
    },
    {
      "cell_type": "code",
      "source": [
        "def format_response(translated_message, response):\n",
        "    if isinstance(response, numpy.ndarray):\n",
        "        response = '\\n'.join(response)\n",
        "        translated_response = translator.translate(response, dest='pt').text\n",
        "        return translated_response\n",
        "    elif isinstance(response, pd.DataFrame):\n",
        "        formatted_message = translated_message + '\\n\\n'\n",
        "        for index, row in response.iterrows():\n",
        "            country_info = f\"{index + 1}. {row['Country name']} - 🥇{row['Gold medals']} 🥈{row['Silver medals']} 🥉{row['Bronze medals']} Total: {row['Total medals']}\"\n",
        "            formatted_message += country_info + '\\n'\n",
        "\n",
        "        translated_response = translator.translate(formatted_message, dest='pt').text\n",
        "        return translated_response\n",
        "\n",
        "    elif isinstance(response, numpy.int64):\n",
        "        if 'gold' in translated_message.lower():\n",
        "            response = f\"🥇 {response} 🥇\"\n",
        "        elif 'silver' in translated_message.lower():\n",
        "            response = f\"🥈 {response} 🥈\"\n",
        "        elif 'bronze' in translated_message.lower():\n",
        "            response = f\"🥉 {response} 🥉\"\n",
        "        elif 'total' in translated_message.lower():\n",
        "            response = f\"🥇🥈🥉 {response} 🥇🥈🥉\"\n",
        "\n",
        "    else:\n",
        "        if \"No code found in the response\" in response:\n",
        "            response = f\"Ocorreu um erro ao processar sua pergunta. Erro: No code found in the response\"\n",
        "\n",
        "    return response"
      ],
      "metadata": {
        "id": "VW96z-DYIEAy"
      },
      "execution_count": 11,
      "outputs": []
    },
    {
      "cell_type": "code",
      "source": [
        "# Mensagens\n",
        "@bot.message_handler(func=lambda message: True)\n",
        "def response(message):\n",
        "    translated_message = translator.translate(message.text, dest='en').text\n",
        "    print(translated_message)\n",
        "    response = pandas_ai.run(df, prompt=translated_message)\n",
        "    #print(\"response: \", response)\n",
        "    #print(type(response))\n",
        "\n",
        "    formated_response = format_response(translated_message, response)\n",
        "    bot.reply_to(message, formated_response)"
      ],
      "metadata": {
        "id": "RG7oCu9tIJ8S"
      },
      "execution_count": 12,
      "outputs": []
    },
    {
      "cell_type": "code",
      "source": [
        "bot.polling()"
      ],
      "metadata": {
        "id": "NAltS79eIPjo"
      },
      "execution_count": null,
      "outputs": []
    }
  ]
}